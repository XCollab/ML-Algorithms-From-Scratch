{
 "cells": [
  {
   "cell_type": "markdown",
   "metadata": {},
   "source": [
    "# Linear Regression using Scikit-learn\n",
    "\n",
    "This notebook demonstrates how to implement Linear Regression using scikit-learn, a powerful machine learning library in Python.\n",
    "\n",
    "## What we'll cover:\n",
    "1. Data preparation and visualization\n",
    "2. Train-test splitting\n",
    "3. Model training and prediction\n",
    "4. Model evaluation using multiple metrics\n",
    "5. Results visualization"
   ]
  },
  {
   "cell_type": "markdown",
   "metadata": {},
   "source": [
    "## Import Required Libraries\n",
    "\n",
    "We'll use:\n",
    "- NumPy for numerical operations\n",
    "- Matplotlib for visualization\n",
    "- Scikit-learn for:\n",
    "  - Linear Regression model\n",
    "  - Train-test splitting\n",
    "  - Model evaluation metrics"
   ]
  },
  {
   "cell_type": "code",
   "execution_count": null,
   "metadata": {},
   "source": [
    "import numpy as np\n",
    "import matplotlib.pyplot as plt\n",
    "from sklearn.linear_model import LinearRegression\n",
    "from sklearn.model_selection import train_test_split\n",
    "from sklearn.metrics import mean_squared_error, r2_score\n",
    "%matplotlib inline\n",
    "\n",
    "# Set random seed for reproducibility\n",
    "np.random.seed(0)"
   ]
  },
  {
   "cell_type": "markdown",
   "metadata": {},
   "source": [
    "## Generate Sample Data\n",
    "\n",
    "We create synthetic data with a known relationship:\n",
    "- True relationship: y = 4 + 3x + noise\n",
    "- Features (X) are randomly generated\n",
    "- Gaussian noise is added for realism\n",
    "\n",
    "This allows us to compare our model's learned parameters with the true values."
   ]
  },
  {
   "cell_type": "code",
   "execution_count": null,
   "metadata": {},
   "source": [
    "# Generate random data points\n",
    "X = 2 * np.random.rand(100, 1)  # 100 random x values between 0 and 2\n",
    "y = 4 + 3 * X + np.random.randn(100, 1)  # True relationship with added noise\n",
    "\n",
    "# Plot the data\n",
    "plt.figure(figsize=(10, 6))\n",
    "plt.scatter(X, y, color='blue', label='Data points')\n",
    "plt.xlabel('X (Input feature)')\n",
    "plt.ylabel('y (Target variable)')\n",
    "plt.title('Generated Data: y = 4 + 3x + noise')\n",
    "plt.legend()\n",
    "plt.grid(True)\n",
    "plt.show()"
   ]
  },
  {
   "cell_type": "markdown",
   "metadata": {},
   "source": [
    "## Split Data into Training and Testing Sets\n",
    "\n",
    "We split our data to:\n",
    "1. Train the model on one portion (training set)\n",
    "2. Evaluate its performance on unseen data (testing set)\n",
    "\n",
    "This helps us assess how well our model generalizes to new data.\n",
    "\n",
    "Parameters:\n",
    "- test_size=0.2: 20% for testing, 80% for training\n",
    "- random_state=42: For reproducibility"
   ]
  },
  {
   "cell_type": "code",
   "execution_count": null,
   "metadata": {},
   "source": [
    "# Split the data\n",
    "X_train, X_test, y_train, y_test = train_test_split(\n",
    "    X, y, test_size=0.2, random_state=42\n",
    ")\n",
    "\n",
    "print(\"Dataset Split:\")\n",
    "print(f\"Training set size: {X_train.shape[0]} samples\")\n",
    "print(f\"Testing set size: {X_test.shape[0]} samples\")"
   ]
  },
  {
   "cell_type": "markdown",
   "metadata": {},
   "source": [
    "## Train the Model\n",
    "\n",
    "Scikit-learn makes it easy to:\n",
    "1. Initialize the model\n",
    "2. Fit it to our training data\n",
    "3. Make predictions\n",
    "\n",
    "The LinearRegression class automatically:\n",
    "- Computes the optimal parameters\n",
    "- Handles the mathematical operations\n",
    "- Provides convenient methods for prediction"
   ]
  },
  {
   "cell_type": "code",
   "execution_count": null,
   "metadata": {},
   "source": [
    "# Create and train the model\n",
    "model = LinearRegression()\n",
    "model.fit(X_train, y_train)\n",
    "\n",
    "# Make predictions on both training and test sets\n",
    "y_train_pred = model.predict(X_train)\n",
    "y_test_pred = model.predict(X_test)\n",
    "\n",
    "print(\"Model Training Complete!\")"
   ]
  },
  {
   "cell_type": "markdown",
   "metadata": {},
   "source": [
    "## Model Evaluation\n",
    "\n",
    "We evaluate our model using multiple metrics:\n",
    "1. R² Score (Coefficient of determination)\n",
    "   - Measures the proportion of variance explained by the model\n",
    "   - Range: 0 to 1 (1 being perfect prediction)\n",
    "\n",
    "2. Mean Squared Error (MSE)\n",
    "   - Average squared difference between predictions and actual values\n",
    "   - Lower values indicate better fit"
   ]
  },
  {
   "cell_type": "code",
   "execution_count": null,
   "metadata": {},
   "source": [
    "# Calculate performance metrics\n",
    "train_r2 = r2_score(y_train, y_train_pred)\n",
    "test_r2 = r2_score(y_test, y_test_pred)\n",
    "train_mse = mean_squared_error(y_train, y_train_pred)\n",
    "test_mse = mean_squared_error(y_test, y_test_pred)\n",
    "\n",
    "print(\"Model Performance:\")\n",
    "print(f\"Training R² Score: {train_r2:.4f}\")\n",
    "print(f\"Testing R² Score: {test_r2:.4f}\")\n",
    "print(f\"Training MSE: {train_mse:.4f}\")\n",
    "print(f\"Testing MSE: {test_mse:.4f}\")\n",
    "\n",
    "print(f\"\\nLearned Parameters:\")\n",
    "print(f\"Coefficient (weight): {model.coef_[0][0]:.4f} (True value: 3)\")\n",
    "print(f\"Intercept (bias): {model.intercept_[0]:.4f} (True value: 4)\")"
   ]
  },
  {
   "cell_type": "markdown",
   "metadata": {},
   "source": [
    "## Visualize Results\n",
    "\n",
    "Let's create a comprehensive visualization showing:\n",
    "1. Training data points\n",
    "2. Testing data points\n",
    "3. Model's predictions\n",
    "\n",
    "This helps us visually assess how well our model fits the data and if there are any patterns in the predictions."
   ]
  },
  {
   "cell_type": "code",
   "execution_count": null,
   "metadata": {},
   "source": [
    "plt.figure(figsize=(12, 6))\n",
    "\n",
    "# Plot training and testing data\n",
    "plt.scatter(X_train, y_train, color='blue', label='Training Data')\n",
    "plt.scatter(X_test, y_test, color='green', label='Testing Data')\n",
    "\n",
    "# Plot the regression line\n",
    "X_plot = np.sort(X, axis=0)\n",
    "y_plot = model.predict(X_plot)\n",
    "plt.plot(X_plot, y_plot, color='red', label='Model Predictions')\n",
    "\n",
    "plt.xlabel('X (Input feature)')\n",
    "plt.ylabel('y (Target variable)')\n",
    "plt.title('Linear Regression: Training, Testing Data, and Predictions')\n",
    "plt.legend()\n",
    "plt.grid(True)\n",
    "plt.show()"
   ]
  },
  {
   "cell_type": "markdown",
   "metadata": {},
   "source": [
    "## Conclusion\n",
    "\n",
    "Our scikit-learn implementation successfully:\n",
    "1. Split the data into training and testing sets\n",
    "2. Trained a linear regression model\n",
    "3. Made accurate predictions on both sets\n",
    "4. Found parameters close to the true values\n",
    "\n",
    "Advantages of using scikit-learn:\n",
    "- Simple and clean API\n",
    "- Efficient implementation\n",
    "- Built-in model evaluation tools\n",
    "- Seamless integration with other ML tools"
   ]
  }
 ],
 "metadata": {
  "kernelspec": {
   "display_name": "Python 3",
   "language": "python",
   "name": "python3"
  },
  "language_info": {
   "codemirror_mode": {
    "name": "ipython",
    "version": 3
   },
   "file_extension": ".py",
   "mimetype": "text/x-python",
   "name": "python",
   "nbconvert_exporter": "python",
   "pygments_lexer": "ipython3",
   "version": "3.8.0"
  }
 },
 "nbformat": 4,
 "nbformat_minor": 4
}
