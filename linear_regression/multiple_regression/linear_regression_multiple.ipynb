{
 "cells": [
  {
   "cell_type": "markdown",
   "metadata": {},
   "source": [
    "# Multiple Linear Regression using Scikit-learn\n",
    "\n",
    "This notebook demonstrates how to implement Multiple Linear Regression using scikit-learn. Unlike simple linear regression which uses one feature, multiple linear regression uses multiple features to predict the target variable.\n",
    "\n",
    "## What we'll cover:\n",
    "1. Data preparation with multiple features\n",
    "2. Train-test splitting\n",
    "3. Model training and prediction\n",
    "4. Model evaluation using multiple metrics\n",
    "5. Results visualization"
   ]
  },
  {
   "cell_type": "code",
   "execution_count": null,
   "metadata": {},
   "source": [
    "import numpy as np\n",
    "import matplotlib.pyplot as plt\n",
    "from sklearn.linear_model import LinearRegression\n",
    "from sklearn.model_selection import train_test_split\n",
    "from sklearn.metrics import mean_squared_error, r2_score\n",
    "%matplotlib inline\n",
    "\n",
    "# Set random seed for reproducibility\n",
    "np.random.seed(0)"
   ]
  },
  {
   "cell_type": "markdown",
   "metadata": {},
   "source": [
    "## Generate Sample Data with Multiple Features\n",
    "\n",
    "We create synthetic data with a known relationship:\n",
    "- True relationship: y = 2 + 3x₁ + 1.5x₂ - 2x₃ + noise\n",
    "- Three features (X₁, X₂, X₃) are randomly generated\n",
    "- Gaussian noise is added for realism"
   ]
  },
  {
   "cell_type": "code",
   "execution_count": null,
   "metadata": {},
   "source": [
    "# Generate random data points with 3 features\n",
    "n_samples = 100\n",
    "X = np.random.rand(n_samples, 3)  # 100 samples, 3 features\n",
    "\n",
    "# True relationship: y = 2 + 3x₁ + 1.5x₂ - 2x₃ + noise\n",
    "y = 2 + 3 * X[:, 0] + 1.5 * X[:, 1] - 2 * X[:, 2] + np.random.randn(n_samples)\n",
    "y = y.reshape(-1, 1)\n",
    "\n",
    "# Create feature names for better visualization\n",
    "feature_names = ['Feature 1', 'Feature 2', 'Feature 3']\n",
    "\n",
    "# Plot relationships between each feature and target\n",
    "fig, axes = plt.subplots(1, 3, figsize=(15, 5))\n",
    "fig.suptitle('Relationship between Features and Target Variable')\n",
    "\n",
    "for i in range(3):\n",
    "    axes[i].scatter(X[:, i], y, alpha=0.5)\n",
    "    axes[i].set_xlabel(feature_names[i])\n",
    "    axes[i].set_ylabel('Target Variable')\n",
    "    axes[i].grid(True)\n",
    "\n",
    "plt.tight_layout()\n",
    "plt.show()"
   ]
  },
  {
   "cell_type": "markdown",
   "metadata": {},
   "source": [
    "## Split Data into Training and Testing Sets"
   ]
  },
  {
   "cell_type": "code",
   "execution_count": null,
   "metadata": {},
   "source": [
    "X_train, X_test, y_train, y_test = train_test_split(\n",
    "    X, y, test_size=0.2, random_state=42\n",
    ")\n",
    "\n",
    "print(\"Dataset Split:\")\n",
    "print(f\"Training set size: {X_train.shape[0]} samples, {X_train.shape[1]} features\")\n",
    "print(f\"Testing set size: {X_test.shape[0]} samples, {X_test.shape[1]} features\")"
   ]
  },
  {
   "cell_type": "markdown",
   "metadata": {},
   "source": [
    "## Train the Multiple Linear Regression Model"
   ]
  },
  {
   "cell_type": "code",
   "execution_count": null,
   "metadata": {},
   "source": [
    "# Create and train the model\n",
    "model = LinearRegression()\n",
    "model.fit(X_train, y_train)\n",
    "\n",
    "# Make predictions\n",
    "y_train_pred = model.predict(X_train)\n",
    "y_test_pred = model.predict(X_test)\n",
    "\n",
    "# Print the learned parameters\n",
    "print(\"\\nLearned Parameters:\")\n",
    "print(\"Intercept (bias):\", model.intercept_[0].round(4), \"(True value: 2)\")\n",
    "for i, (coef, name) in enumerate(zip(model.coef_[0], feature_names)):\n",
    "    true_coef = [3, 1.5, -2][i]\n",
    "    print(f\"{name} coefficient:\", coef.round(4), f\"(True value: {true_coef})\")"
   ]
  },
  {
   "cell_type": "markdown",
   "metadata": {},
   "source": [
    "## Model Evaluation"
   ]
  },
  {
   "cell_type": "code",
   "execution_count": null,
   "metadata": {},
   "source": [
    "# Calculate performance metrics\n",
    "train_r2 = r2_score(y_train, y_train_pred)\n",
    "test_r2 = r2_score(y_test, y_test_pred)\n",
    "train_mse = mean_squared_error(y_train, y_train_pred)\n",
    "test_mse = mean_squared_error(y_test, y_test_pred)\n",
    "\n",
    "print(\"Model Performance:\")\n",
    "print(f\"Training R² Score: {train_r2:.4f}\")\n",
    "print(f\"Testing R² Score: {test_r2:.4f}\")\n",
    "print(f\"Training MSE: {train_mse:.4f}\")\n",
    "print(f\"Testing MSE: {test_mse:.4f}\")"
   ]
  },
  {
   "cell_type": "markdown",
   "metadata": {},
   "source": [
    "## Visualize Predictions vs Actual Values"
   ]
  },
  {
   "cell_type": "code",
   "execution_count": null,
   "metadata": {},
   "source": [
    "plt.figure(figsize=(10, 6))\n",
    "\n",
    "# Plot training data\n",
    "plt.scatter(y_train, y_train_pred, color='blue', alpha=0.5, label='Training Data')\n",
    "plt.scatter(y_test, y_test_pred, color='red', alpha=0.5, label='Testing Data')\n",
    "\n",
    "# Plot perfect prediction line\n",
    "min_val = min(y_train.min(), y_test.min())\n",
    "max_val = max(y_train.max(), y_test.max())\n",
    "plt.plot([min_val, max_val], [min_val, max_val], 'k--', label='Perfect Prediction')\n",
    "\n",
    "plt.xlabel('Actual Values')\n",
    "plt.ylabel('Predicted Values')\n",
    "plt.title('Multiple Linear Regression: Predicted vs Actual Values')\n",
    "plt.legend()\n",
    "plt.grid(True)\n",
    "plt.show()"
   ]
  },
  {
   "cell_type": "markdown",
   "metadata": {},
   "source": [
    "## Key Differences from Simple Linear Regression\n",
    "\n",
    "1. **Number of Features**:\n",
    "   - Simple Linear Regression: One feature (X)\n",
    "   - Multiple Linear Regression: Multiple features (X₁, X₂, X₃)\n",
    "\n",
    "2. **Model Equation**:\n",
    "   - Simple: y = b₀ + b₁x + ε\n",
    "   - Multiple: y = b₀ + b₁x₁ + b₂x₂ + b₃x₃ + ε\n",
    "\n",
    "3. **Visualization**:\n",
    "   - Simple: Can plot in 2D (one feature vs target)\n",
    "   - Multiple: Requires multiple plots or dimensionality reduction\n",
    "\n",
    "4. **Interpretation**:\n",
    "   - Simple: One coefficient represents the effect of the single feature\n",
    "   - Multiple: Each coefficient represents the effect of its feature while holding others constant"
   ]
  }
 ],
 "metadata": {
  "kernelspec": {
   "display_name": "Python 3",
   "language": "python",
   "name": "python3"
  },
  "language_info": {
   "codemirror_mode": {
    "name": "ipython",
    "version": 3
   },
   "file_extension": ".py",
   "mimetype": "text/x-python",
   "name": "python",
   "nbconvert_exporter": "python",
   "pygments_lexer": "ipython3",
   "version": "3.8.0"
  }
 },
 "nbformat": 4,
 "nbformat_minor": 4
}
