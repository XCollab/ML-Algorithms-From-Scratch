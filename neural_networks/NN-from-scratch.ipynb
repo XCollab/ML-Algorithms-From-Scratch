{
 "cells": [
  {
   "cell_type": "code",
   "execution_count": null,
   "metadata": {},
   "outputs": [],
   "source": []
  },
  {
   "cell_type": "code",
   "execution_count": null,
   "metadata": {},
   "outputs": [],
   "source": []
  },
  {
   "cell_type": "code",
   "execution_count": null,
   "metadata": {},
   "outputs": [],
   "source": []
  },
  {
   "cell_type": "markdown",
   "metadata": {},
   "source": [
    "<div style=\"text-align: center;\">\n",
    "    <h1 style=\"font-size: 36px; font-weight: bold; color: #2E8B57;\">Build Neural Network from Scratch</h1>\n",
    "    <h3 style=\"font-size: 26px; font-weight: bold; color: #2E8B57;\">Comparing Custom Neural Network and PyTorch Model Performance</h3>\n",
    "    <p style=\"font-size: 22px;\">\n",
    "        <a href=\"https://github.com/codewithdark-git\" \n",
    "           style=\"text-decoration: none; color:rgb(73, 128, 6); transition: color 0.3s ease-in-out;\" \n",
    "           onmouseover=\"this.style.color='#0077B5';\" \n",
    "           onmouseout=\"this.style.color='rgb(73, 128, 6)';\">\n",
    "            GitHub\n",
    "        </a> | \n",
    "        <a href=\"https://www.linkedin.com/in/codewithdark\" \n",
    "           style=\"text-decoration: none; color: #0077B5; transition: color 0.3s ease-in-out;\" \n",
    "           onmouseover=\"this.style.color='#333';\" \n",
    "           onmouseout=\"this.style.color='#0077B5';\">\n",
    "            LinkedIn\n",
    "        </a> | \n",
    "        <a href=\"https://www.kaggle.com/codewithdark\" \n",
    "           style=\"text-decoration: none; color: #00A859; transition: color 0.3s ease-in-out;\" \n",
    "           onmouseover=\"this.style.color='#333';\" \n",
    "           onmouseout=\"this.style.color='#00A859';\">\n",
    "            Kaggle\n",
    "        </a>\n",
    "    </p>\n",
    "</div>\n",
    "\n",
    "\n",
    "<hr style=\"border-top: 2px solid #2E8B57; margin: 20px 0;\">\n",
    "\n",
    "**Author:** [Ahsan Umar](https://www.linkedin.com/in/codewithdark)\n",
    "\n",
    "**Date:** 2024-12-29\n",
    "\n",
    "\n",
    "In this notebook, we will explore and compare the performance of a custom-built neural network (NN) against a model implemented in PyTorch. Specifically, we will focus on the accuracy achieved by both models over time, with a detailed comparison of training and testing accuracies.\n",
    "\n",
    "## **Goals of the Notebook:**\n",
    "- **Evaluate and compare** the accuracy of a custom neural network versus a model implemented using the PyTorch framework.\n",
    "- **Visualize the results** through plots to better understand how both models perform across different epochs and iterations.\n",
    "- **Analyze the trends** in training and testing accuracy for both models, which will help identify their strengths and potential improvements.\n",
    "\n",
    "## **Overview of the Models:**\n",
    "1. **Custom Neural Network**: A simple custom-built neural network trained on a dataset. The model’s performance is tracked over several iterations, with accuracy reported at intervals.\n",
    "2. **PyTorch Model**: A similar model implemented using the PyTorch framework, which is trained for a specified number of epochs. Both training and testing accuracies are recorded at the end of each epoch.\n",
    "\n",
    "## **Dataset and Resources:**\n",
    "- The dataset used in this work can be accessed and downloaded from [Google Drive](https://drive.google.com/file/d/1kobc4-1jZlOBOZBf52NNDPgosnuJD84S/view).\n",
    "- For a detailed walkthrough of this project, you can refer to the [original notebook](https://colab.research.google.com/drive/1jFB6r_prNCRH0kiuTqy1Lfgrndk38GKD?usp=sharing).\n",
    "- You can also watch a [YouTube video](https://youtu.be/A83BbHFoKb8?si=bSyUjRIxF1kyab5b) that explains the process and implementation behind this work.\n",
    "\n",
    "\n",
    "By the end of this notebook, we aim to gain insights into how the custom NN compares to the PyTorch model in terms of training efficiency and overall performance.\n",
    "\n",
    "## **Structure of the Notebook:**\n",
    "1. **Model Training and Evaluation**: We will first run both models, record their performance, and then visualize the accuracy trends.\n",
    "2. **Plotting the Results**: We will plot the accuracy of both models over time to make an easy comparison.\n",
    "3. **Analysis**: Based on the plots, we will analyze the strengths and weaknesses of each model.\n",
    "\n",
    "Let’s begin by comparing the models and visualizing the results.\n"
   ]
  },
  {
   "cell_type": "code",
   "execution_count": 3,
   "metadata": {
    "execution": {
     "iopub.execute_input": "2024-12-28T17:29:24.989951Z",
     "iopub.status.busy": "2024-12-28T17:29:24.989548Z",
     "iopub.status.idle": "2024-12-28T17:29:24.993556Z",
     "shell.execute_reply": "2024-12-28T17:29:24.992791Z",
     "shell.execute_reply.started": "2024-12-28T17:29:24.989927Z"
    },
    "id": "a-nUb4v9gJ-D"
   },
   "outputs": [],
   "source": [
    "import numpy as np\n",
    "import pandas as pd\n",
    "from matplotlib import pyplot as plt"
   ]
  },
  {
   "cell_type": "code",
   "execution_count": 5,
   "metadata": {
    "colab": {
     "base_uri": "https://localhost:8080/"
    },
    "execution": {
     "iopub.execute_input": "2024-12-28T17:29:33.695312Z",
     "iopub.status.busy": "2024-12-28T17:29:33.694943Z",
     "iopub.status.idle": "2024-12-28T17:29:37.308499Z",
     "shell.execute_reply": "2024-12-28T17:29:37.307697Z",
     "shell.execute_reply.started": "2024-12-28T17:29:33.695281Z"
    },
    "id": "DsZRl7HDtZUf",
    "outputId": "c4689508-1f5a-4766-9428-619afa258138"
   },
   "outputs": [
    {
     "name": "stdout",
     "output_type": "stream",
     "text": [
      "--2024-12-28 17:29:33--  https://drive.google.com/uc?id=1kobc4-1jZlOBOZBf52NNDPgosnuJD84S\n",
      "Resolving drive.google.com (drive.google.com)... 173.194.193.101, 173.194.193.102, 173.194.193.138, ...\n",
      "Connecting to drive.google.com (drive.google.com)|173.194.193.101|:443... connected.\n",
      "HTTP request sent, awaiting response... 303 See Other\n",
      "Location: https://drive.usercontent.google.com/download?id=1kobc4-1jZlOBOZBf52NNDPgosnuJD84S [following]\n",
      "--2024-12-28 17:29:33--  https://drive.usercontent.google.com/download?id=1kobc4-1jZlOBOZBf52NNDPgosnuJD84S\n",
      "Resolving drive.usercontent.google.com (drive.usercontent.google.com)... 173.194.195.132, 2607:f8b0:4001:c11::84\n",
      "Connecting to drive.usercontent.google.com (drive.usercontent.google.com)|173.194.195.132|:443... connected.\n",
      "HTTP request sent, awaiting response... 200 OK\n",
      "Length: 76775041 (73M) [application/octet-stream]\n",
      "Saving to: ‘data.csv’\n",
      "\n",
      "data.csv            100%[===================>]  73.22M   208MB/s    in 0.4s    \n",
      "\n",
      "2024-12-28 17:29:37 (208 MB/s) - ‘data.csv’ saved [76775041/76775041]\n",
      "\n"
     ]
    }
   ],
   "source": [
    "!wget --no-check-certificate 'https://drive.google.com/uc?id=1kobc4-1jZlOBOZBf52NNDPgosnuJD84S' -O data.csv"
   ]
  },
  {
   "cell_type": "code",
   "execution_count": 28,
   "metadata": {
    "execution": {
     "iopub.execute_input": "2024-12-28T17:50:56.293443Z",
     "iopub.status.busy": "2024-12-28T17:50:56.293147Z",
     "iopub.status.idle": "2024-12-28T17:50:58.289962Z",
     "shell.execute_reply": "2024-12-28T17:50:58.289287Z",
     "shell.execute_reply.started": "2024-12-28T17:50:56.293421Z"
    },
    "id": "S3NDR--wubp4"
   },
   "outputs": [],
   "source": [
    "data = pd.read_csv('/kaggle/working/data.csv')"
   ]
  },
  {
   "cell_type": "code",
   "execution_count": 29,
   "metadata": {
    "colab": {
     "base_uri": "https://localhost:8080/",
     "height": 255
    },
    "execution": {
     "iopub.execute_input": "2024-12-28T17:51:00.150950Z",
     "iopub.status.busy": "2024-12-28T17:51:00.150681Z",
     "iopub.status.idle": "2024-12-28T17:51:00.164087Z",
     "shell.execute_reply": "2024-12-28T17:51:00.163134Z",
     "shell.execute_reply.started": "2024-12-28T17:51:00.150929Z"
    },
    "id": "LNVUhJ7Uunwe",
    "outputId": "74133a47-2aef-465f-8fe4-140578dfa34d"
   },
   "outputs": [
    {
     "data": {
      "text/html": [
       "<div>\n",
       "<style scoped>\n",
       "    .dataframe tbody tr th:only-of-type {\n",
       "        vertical-align: middle;\n",
       "    }\n",
       "\n",
       "    .dataframe tbody tr th {\n",
       "        vertical-align: top;\n",
       "    }\n",
       "\n",
       "    .dataframe thead th {\n",
       "        text-align: right;\n",
       "    }\n",
       "</style>\n",
       "<table border=\"1\" class=\"dataframe\">\n",
       "  <thead>\n",
       "    <tr style=\"text-align: right;\">\n",
       "      <th></th>\n",
       "      <th>label</th>\n",
       "      <th>pixel0</th>\n",
       "      <th>pixel1</th>\n",
       "      <th>pixel2</th>\n",
       "      <th>pixel3</th>\n",
       "      <th>pixel4</th>\n",
       "      <th>pixel5</th>\n",
       "      <th>pixel6</th>\n",
       "      <th>pixel7</th>\n",
       "      <th>pixel8</th>\n",
       "      <th>...</th>\n",
       "      <th>pixel774</th>\n",
       "      <th>pixel775</th>\n",
       "      <th>pixel776</th>\n",
       "      <th>pixel777</th>\n",
       "      <th>pixel778</th>\n",
       "      <th>pixel779</th>\n",
       "      <th>pixel780</th>\n",
       "      <th>pixel781</th>\n",
       "      <th>pixel782</th>\n",
       "      <th>pixel783</th>\n",
       "    </tr>\n",
       "  </thead>\n",
       "  <tbody>\n",
       "    <tr>\n",
       "      <th>0</th>\n",
       "      <td>1</td>\n",
       "      <td>0</td>\n",
       "      <td>0</td>\n",
       "      <td>0</td>\n",
       "      <td>0</td>\n",
       "      <td>0</td>\n",
       "      <td>0</td>\n",
       "      <td>0</td>\n",
       "      <td>0</td>\n",
       "      <td>0</td>\n",
       "      <td>...</td>\n",
       "      <td>0</td>\n",
       "      <td>0</td>\n",
       "      <td>0</td>\n",
       "      <td>0</td>\n",
       "      <td>0</td>\n",
       "      <td>0</td>\n",
       "      <td>0</td>\n",
       "      <td>0</td>\n",
       "      <td>0</td>\n",
       "      <td>0</td>\n",
       "    </tr>\n",
       "    <tr>\n",
       "      <th>1</th>\n",
       "      <td>0</td>\n",
       "      <td>0</td>\n",
       "      <td>0</td>\n",
       "      <td>0</td>\n",
       "      <td>0</td>\n",
       "      <td>0</td>\n",
       "      <td>0</td>\n",
       "      <td>0</td>\n",
       "      <td>0</td>\n",
       "      <td>0</td>\n",
       "      <td>...</td>\n",
       "      <td>0</td>\n",
       "      <td>0</td>\n",
       "      <td>0</td>\n",
       "      <td>0</td>\n",
       "      <td>0</td>\n",
       "      <td>0</td>\n",
       "      <td>0</td>\n",
       "      <td>0</td>\n",
       "      <td>0</td>\n",
       "      <td>0</td>\n",
       "    </tr>\n",
       "    <tr>\n",
       "      <th>2</th>\n",
       "      <td>1</td>\n",
       "      <td>0</td>\n",
       "      <td>0</td>\n",
       "      <td>0</td>\n",
       "      <td>0</td>\n",
       "      <td>0</td>\n",
       "      <td>0</td>\n",
       "      <td>0</td>\n",
       "      <td>0</td>\n",
       "      <td>0</td>\n",
       "      <td>...</td>\n",
       "      <td>0</td>\n",
       "      <td>0</td>\n",
       "      <td>0</td>\n",
       "      <td>0</td>\n",
       "      <td>0</td>\n",
       "      <td>0</td>\n",
       "      <td>0</td>\n",
       "      <td>0</td>\n",
       "      <td>0</td>\n",
       "      <td>0</td>\n",
       "    </tr>\n",
       "    <tr>\n",
       "      <th>3</th>\n",
       "      <td>4</td>\n",
       "      <td>0</td>\n",
       "      <td>0</td>\n",
       "      <td>0</td>\n",
       "      <td>0</td>\n",
       "      <td>0</td>\n",
       "      <td>0</td>\n",
       "      <td>0</td>\n",
       "      <td>0</td>\n",
       "      <td>0</td>\n",
       "      <td>...</td>\n",
       "      <td>0</td>\n",
       "      <td>0</td>\n",
       "      <td>0</td>\n",
       "      <td>0</td>\n",
       "      <td>0</td>\n",
       "      <td>0</td>\n",
       "      <td>0</td>\n",
       "      <td>0</td>\n",
       "      <td>0</td>\n",
       "      <td>0</td>\n",
       "    </tr>\n",
       "    <tr>\n",
       "      <th>4</th>\n",
       "      <td>0</td>\n",
       "      <td>0</td>\n",
       "      <td>0</td>\n",
       "      <td>0</td>\n",
       "      <td>0</td>\n",
       "      <td>0</td>\n",
       "      <td>0</td>\n",
       "      <td>0</td>\n",
       "      <td>0</td>\n",
       "      <td>0</td>\n",
       "      <td>...</td>\n",
       "      <td>0</td>\n",
       "      <td>0</td>\n",
       "      <td>0</td>\n",
       "      <td>0</td>\n",
       "      <td>0</td>\n",
       "      <td>0</td>\n",
       "      <td>0</td>\n",
       "      <td>0</td>\n",
       "      <td>0</td>\n",
       "      <td>0</td>\n",
       "    </tr>\n",
       "  </tbody>\n",
       "</table>\n",
       "<p>5 rows × 785 columns</p>\n",
       "</div>"
      ],
      "text/plain": [
       "   label  pixel0  pixel1  pixel2  pixel3  pixel4  pixel5  pixel6  pixel7  \\\n",
       "0      1       0       0       0       0       0       0       0       0   \n",
       "1      0       0       0       0       0       0       0       0       0   \n",
       "2      1       0       0       0       0       0       0       0       0   \n",
       "3      4       0       0       0       0       0       0       0       0   \n",
       "4      0       0       0       0       0       0       0       0       0   \n",
       "\n",
       "   pixel8  ...  pixel774  pixel775  pixel776  pixel777  pixel778  pixel779  \\\n",
       "0       0  ...         0         0         0         0         0         0   \n",
       "1       0  ...         0         0         0         0         0         0   \n",
       "2       0  ...         0         0         0         0         0         0   \n",
       "3       0  ...         0         0         0         0         0         0   \n",
       "4       0  ...         0         0         0         0         0         0   \n",
       "\n",
       "   pixel780  pixel781  pixel782  pixel783  \n",
       "0         0         0         0         0  \n",
       "1         0         0         0         0  \n",
       "2         0         0         0         0  \n",
       "3         0         0         0         0  \n",
       "4         0         0         0         0  \n",
       "\n",
       "[5 rows x 785 columns]"
      ]
     },
     "execution_count": 29,
     "metadata": {},
     "output_type": "execute_result"
    }
   ],
   "source": [
    "data.head()"
   ]
  },
  {
   "cell_type": "code",
   "execution_count": 30,
   "metadata": {
    "execution": {
     "iopub.execute_input": "2024-12-28T17:51:02.563788Z",
     "iopub.status.busy": "2024-12-28T17:51:02.563457Z",
     "iopub.status.idle": "2024-12-28T17:51:03.117000Z",
     "shell.execute_reply": "2024-12-28T17:51:03.116060Z",
     "shell.execute_reply.started": "2024-12-28T17:51:02.563762Z"
    },
    "id": "gV__Iyvku4rM"
   },
   "outputs": [],
   "source": [
    "data = np.array(data)\n",
    "m, n = data.shape\n",
    "np.random.shuffle(data)"
   ]
  },
  {
   "cell_type": "code",
   "execution_count": 9,
   "metadata": {
    "colab": {
     "base_uri": "https://localhost:8080/"
    },
    "execution": {
     "iopub.execute_input": "2024-12-28T17:29:46.150956Z",
     "iopub.status.busy": "2024-12-28T17:29:46.150670Z",
     "iopub.status.idle": "2024-12-28T17:29:46.156105Z",
     "shell.execute_reply": "2024-12-28T17:29:46.155184Z",
     "shell.execute_reply.started": "2024-12-28T17:29:46.150934Z"
    },
    "id": "iFptklKPvVqp",
    "outputId": "d50421e4-b586-42d9-d7b6-3ad0a26e288e"
   },
   "outputs": [
    {
     "name": "stdout",
     "output_type": "stream",
     "text": [
      "42000 785\n"
     ]
    }
   ],
   "source": [
    "print(m,n)"
   ]
  },
  {
   "cell_type": "markdown",
   "metadata": {},
   "source": [
    "To describe the above code mathematically, here's the breakdown:\n",
    "\n",
    "Given a dataset `data` of size `m x n` (where `m` is the number of samples and `n` is the number of features per sample), the code performs the following operations:\n",
    "\n",
    "1. **Splitting the dataset into training and validation sets:**\n",
    "   - The dataset is split into a training set (`train_data`) containing the first 80% of the data and a validation set (`val_data`) containing the remaining 20%.\n",
    "   \n",
    "   $$\n",
    "   \\text{train\\_data} = \\text{data}[0: \\lfloor 0.8 \\times m \\rfloor, :]\n",
    "   $$\n",
    "   $$\n",
    "   \\text{val\\_data} = \\text{data}[\\lfloor 0.8 \\times m \\rfloor: m, :]\n",
    "   $$\n",
    "\n",
    "2. **Preprocessing the training data:**\n",
    "   - The features (i.e., columns starting from the second column) are extracted and transposed to create the input matrix \\(X_{\\text{train}}\\).\n",
    "   - Each feature is normalized by dividing it by 255.0 (assuming pixel values in an image dataset).\n",
    "   \n",
    "   $$\n",
    "   X_{\\text{train}} = \\left( \\text{train\\_data}[:, 1:] \\right)^T \\quad \\text{(transpose the features)}\n",
    "   $$\n",
    "   $$\n",
    "   X_{\\text{train}} = \\frac{X_{\\text{train}}}{255.0} \\quad \\text{(normalize pixel values)}\n",
    "   $$\n",
    "\n",
    "   - The target labels for the training set (i.e., the first column) are stored in \\(Y_{\\text{train}}\\).\n",
    "\n",
    "   $$\n",
    "   Y_{\\text{train}} = \\text{train\\_data}[:, 0]\n",
    "   $$\n",
    "\n",
    "3. **Preprocessing the validation data:**\n",
    "   - Similarly, for the validation data, the features are extracted, transposed, and normalized.\n",
    "   \n",
    "   $$\n",
    "   X_{\\text{val}} = \\left( \\text{val\\_data}[:, 1:] \\right)^T\n",
    "   $$\n",
    "   $$\n",
    "   X_{\\text{val}} = \\frac{X_{\\text{val}}}{255.0}\n",
    "   $$\n",
    "\n",
    "   - The target labels for the validation set are stored in \\(Y_{\\text{val}}\\).\n",
    "\n",
    "   $$\n",
    "   Y_{\\text{val}} = \\text{val\\_data}[:, 0]\n",
    "   $$\n",
    "\n",
    "### Final Summary:\n",
    "\n",
    "\n",
    "$$\n",
    "\\text{Training Data: } \\, \\text{train\\_data} = \\text{data}[0: \\lfloor 0.8 \\times m \\rfloor, :]\n",
    "$$\n",
    "\n",
    "$$\n",
    "\\text{Validation Data: } \\, \\text{val\\_data} = \\text{data}[\\lfloor 0.8 \\times m \\rfloor: m, :]\n",
    "$$\n",
    "\n",
    "$$\n",
    "\\text{Features (Training): } \\, X_{\\text{train}} = \\left( \\text{train\\_data}[:, 1:] \\right)^T, \\quad X_{\\text{train}} = \\frac{X_{\\text{train}}}{255.0}\n",
    "$$\n",
    "\n",
    "$$\n",
    "\\text{Labels (Training): } \\, Y_{\\text{train}} = \\text{train\\_data}[:, 0]\n",
    "$$\n",
    "\n",
    "$$\n",
    "\\text{Features (Validation): } \\, X_{\\text{val}} = \\left( \\text{val\\_data}[:, 1:] \\right)^T, \\quad X_{\\text{val}} = \\frac{X_{\\text{val}}}{255.0}\n",
    "$$\n",
    "\n",
    "$$\n",
    "\\text{Labels (Validation): } \\, Y_{\\text{val}} = \\text{val\\_data}[:, 0]\n",
    "$$\n",
    "\n",
    "\n",
    "This captures the process of splitting, transposing, and normalizing the dataset for training and validation in mathematical terms."
   ]
  },
  {
   "cell_type": "code",
   "execution_count": 31,
   "metadata": {
    "execution": {
     "iopub.execute_input": "2024-12-28T17:51:06.263771Z",
     "iopub.status.busy": "2024-12-28T17:51:06.263430Z",
     "iopub.status.idle": "2024-12-28T17:51:06.368688Z",
     "shell.execute_reply": "2024-12-28T17:51:06.367271Z",
     "shell.execute_reply.started": "2024-12-28T17:51:06.263741Z"
    },
    "id": "tn4Mj3Aevcl6"
   },
   "outputs": [],
   "source": [
    "train_data = data[0:int(0.8*m), :]\n",
    "val_data = data[int(0.8*m):m, :]\n",
    "\n",
    "X_train = train_data[:, 1:].T\n",
    "X_train = X_train / 255.0\n",
    "Y_train = train_data[:, 0]\n",
    "\n",
    "X_val = val_data[:, 1:].T\n",
    "X_val = X_val / 255.0\n",
    "Y_val = val_data[:, 0]"
   ]
  },
  {
   "cell_type": "code",
   "execution_count": 32,
   "metadata": {
    "colab": {
     "base_uri": "https://localhost:8080/"
    },
    "execution": {
     "iopub.execute_input": "2024-12-28T17:51:08.799086Z",
     "iopub.status.busy": "2024-12-28T17:51:08.798790Z",
     "iopub.status.idle": "2024-12-28T17:51:08.803850Z",
     "shell.execute_reply": "2024-12-28T17:51:08.802974Z",
     "shell.execute_reply.started": "2024-12-28T17:51:08.799065Z"
    },
    "id": "vszzdKNbv8W7",
    "outputId": "8f520e21-3c22-46ee-8f30-73c381853cb4"
   },
   "outputs": [
    {
     "name": "stdout",
     "output_type": "stream",
     "text": [
      "(784, 8400)\n",
      "(8400,)\n",
      "(784, 33600)\n",
      "(33600,)\n"
     ]
    }
   ],
   "source": [
    "print(X_val.shape)\n",
    "print(Y_val.shape)\n",
    "print(X_train.shape)\n",
    "print(Y_train.shape)"
   ]
  },
  {
   "cell_type": "markdown",
   "metadata": {},
   "source": [
    "To explain the mathematics of your neural network step by step and how it corresponds to the Python code, we will break it down into these stages:\n",
    "\n",
    "1. **Initialization**  \n",
    "2. **Forward Propagation**  \n",
    "3. **Loss Calculation**  \n",
    "4. **Backward Propagation**  \n",
    "5. **Parameter Updates**  \n",
    "6. **Prediction and Accuracy**  \n",
    "\n",
    "---\n",
    "\n",
    "### 1. **Initialization**\n",
    "The weights and biases are initialized randomly. The mathematics here is:\n",
    "$$\n",
    "W_1 \\in \\mathbb{R}^{h \\times d}, \\quad B_1 \\in \\mathbb{R}^{h \\times 1}, \\quad W_2 \\in \\mathbb{R}^{c \\times h}, \\quad B_2 \\in \\mathbb{R}^{c \\times 1}\n",
    "$$\n",
    "Where:\n",
    "- $(d)$: Number of input features\n",
    "- $(h)$: Number of hidden layer neurons\n",
    "- $(c)$: Number of output classes  \n",
    "\n",
    "In code:\n",
    "```python\n",
    "self.W1 = np.random.rand(hidden_size, input_size) - 0.5\n",
    "self.B1 = np.random.rand(hidden_size, 1) - 0.5\n",
    "self.W2 = np.random.rand(output_size, hidden_size) - 0.5\n",
    "self.B2 = np.random.rand(output_size, 1) - 0.5\n",
    "```\n",
    "\n",
    "---\n",
    "\n",
    "### 2. **Forward Propagation**\n",
    "\n",
    "#### Step 1: Hidden Layer Pre-Activation  \n",
    "$$\n",
    "Z_1 = W_1 X + B_1\n",
    "$$\n",
    "Where:\n",
    "- $(W_1)$ and $(B_1)$ are weights and biases for the hidden layer.\n",
    "- $(X)$ is the input (shape: $(d \\times m)$, where $(m)$ is the number of examples).  \n",
    "\n",
    "In code:\n",
    "```python\n",
    "self.Z1 = self.W1.dot(X) + self.B1\n",
    "```\n",
    "\n",
    "#### Step 2: Hidden Layer Activation $(ReLU)$ \n",
    "$$\n",
    "A_1 = \\text{ReLU}(Z_1) = \\max(0, Z_1)\n",
    "$$\n",
    "In code:\n",
    "```python\n",
    "self.A1 = np.maximum(self.Z1, 0)\n",
    "```\n",
    "\n",
    "#### Step 3: Output Layer Pre-Activation  \n",
    "$$\n",
    "Z_2 = W_2 A_1 + B_2\n",
    "$$\n",
    "Where $(W_2)$ and $(B_2)$ are the weights and biases for the output layer.  \n",
    "\n",
    "In code:\n",
    "```python\n",
    "self.Z2 = self.W2.dot(self.A1) + self.B2\n",
    "```\n",
    "\n",
    "#### Step 4: Output Layer Activation (Softmax)  \n",
    "$$\n",
    "A_2 = \\text{Softmax}(Z_2) = \\frac{\\exp(Z_2)}{\\sum \\exp(Z_2)}\n",
    "$$\n",
    "Softmax converts the raw scores $(Z_2)$ into probabilities. To prevent overflow, we subtract the maximum of $(Z_2)$ from $(Z_2)$ before applying $(exp)$.  \n",
    "\n",
    "In code:\n",
    "```python\n",
    "exp_Z = np.exp(Z - np.max(Z, axis=0, keepdims=True))\n",
    "self.A2 = exp_Z / np.sum(exp_Z, axis=0, keepdims=True)\n",
    "```\n",
    "\n",
    "---\n",
    "\n",
    "### 3. **Loss Calculation**\n",
    "\n",
    "The cross-entropy loss for a single example is:\n",
    "$$\n",
    "L = -\\sum_{i=1}^c Y_i \\log(A_{2i})\n",
    "$$\n",
    "Where $(Y_i)$ is the one-hot encoded label, and $(A_{2i})$ is the predicted probability for class $(i)$. For $(m)$ examples:\n",
    "$$\n",
    "L = -\\frac{1}{m} \\sum_{j=1}^m \\sum_{i=1}^c Y_{ij} \\log(A_{2ij})\n",
    "$$\n",
    "\n",
    "In code:\n",
    "```python\n",
    "one_hot_Y = self.one_hot_converter(Y, self.W2.shape[0])\n",
    "loss = -np.mean(np.sum(one_hot_Y * np.log(self.A2), axis=0))\n",
    "```\n",
    "\n",
    "---\n",
    "\n",
    "### 4. **Backward Propagation**\n",
    "\n",
    "#### Step 1: Gradient of Output Layer  \n",
    "The gradient of the loss $(L)$ with respect to $(Z_2)$ is:\n",
    "$$\n",
    "dZ_2 = A_2 - Y\n",
    "$$\n",
    "In code:\n",
    "```python\n",
    "dZ2 = self.A2 - one_hot_Y\n",
    "```\n",
    "\n",
    "#### Step 2: Gradients of $(W_2)$ and $(B_2)$  \n",
    "$$\n",
    "dW_2 = \\frac{1}{m} dZ_2 A_1^\\top, \\quad dB_2 = \\frac{1}{m} \\sum dZ_2\n",
    "$$\n",
    "In code:\n",
    "```python\n",
    "dW2 = 1 / m * dZ2.dot(self.A1.T)\n",
    "dB2 = 1 / m * np.sum(dZ2, axis=1, keepdims=True)\n",
    "```\n",
    "\n",
    "#### Step 3: Gradient of Hidden Layer $(ReLU Derivative)$  \n",
    "$$\n",
    "dZ_1 = (W_2^\\top dZ_2) \\odot \\text{ReLU}'(Z_1)\n",
    "$$\n",
    "Where $(\\text{ReLU}'(Z_1) = 1 \\text{ if } Z_1 > 0, \\text{ else } 0)$.  \n",
    "$(odot)$ denotes element-wise multiplication.  \n",
    "\n",
    "In code:\n",
    "```python\n",
    "dZ1 = self.W2.T.dot(dZ2) * (self.Z1 > 0)\n",
    "```\n",
    "\n",
    "#### Step 4: Gradients of \\(W_1\\) and \\(B_1\\)  \n",
    "$$\n",
    "dW_1 = \\frac{1}{m} dZ_1 X^\\top, \\quad dB_1 = \\frac{1}{m} \\sum dZ_1\n",
    "$$\n",
    "In code:\n",
    "```python\n",
    "dW1 = 1 / m * dZ1.dot(X.T)\n",
    "dB1 = 1 / m * np.sum(dZ1, axis=1, keepdims=True)\n",
    "```\n",
    "\n",
    "---\n",
    "\n",
    "### 5. **Parameter Updates**\n",
    "Using gradient descent:\n",
    "$$\n",
    "W_1 \\gets W_1 - \\alpha dW_1, \\quad B_1 \\gets B_1 - \\alpha dB_1\n",
    "$$\n",
    "$$\n",
    "W_2 \\gets W_2 - \\alpha dW_2, \\quad B_2 \\gets B_2 - \\alpha dB_2\n",
    "$$\n",
    "Where $\\alpha\\$ is the learning rate.  \n",
    "\n",
    "In code:\n",
    "```python\n",
    "self.W1 -= learning_rate * dW1\n",
    "self.B1 -= learning_rate * dB1\n",
    "self.W2 -= learning_rate * dW2\n",
    "self.B2 -= learning_rate * dB2\n",
    "```\n",
    "\n",
    "---\n",
    "\n",
    "### 6. **Prediction and Accuracy**\n",
    "\n",
    "#### Predictions:\n",
    "$$\n",
    "\\text{predictions} = \\arg\\max(A_2, \\text{axis}=0)\n",
    "$$\n",
    "In code:\n",
    "```python\n",
    "predictions = np.argmax(self.A2, axis=0)\n",
    "```\n",
    "\n",
    "#### Accuracy:\n",
    "$$\n",
    "\\text{accuracy} = \\frac{\\text{Number of correct predictions}}{\\text{Total number of predictions}}\n",
    "$$\n",
    "In code:\n",
    "```python\n",
    "accuracy = np.mean(predictions == Y)\n",
    "```"
   ]
  },
  {
   "cell_type": "code",
   "execution_count": 33,
   "metadata": {
    "execution": {
     "iopub.execute_input": "2024-12-28T17:51:14.239332Z",
     "iopub.status.busy": "2024-12-28T17:51:14.239030Z",
     "iopub.status.idle": "2024-12-28T17:51:14.251873Z",
     "shell.execute_reply": "2024-12-28T17:51:14.251154Z",
     "shell.execute_reply.started": "2024-12-28T17:51:14.239308Z"
    },
    "id": "2SfZeHRl4II5"
   },
   "outputs": [],
   "source": [
    "import numpy as np\n",
    "\n",
    "class NeuralNetwork:\n",
    "    def __init__(self, input_size, hidden_size, output_size):\n",
    "        # Initialize weights and biases\n",
    "        self.W1 = np.random.rand(hidden_size, input_size) - 0.5\n",
    "        self.B1 = np.random.rand(hidden_size, 1) - 0.5\n",
    "        self.W2 = np.random.rand(output_size, hidden_size) - 0.5\n",
    "        self.B2 = np.random.rand(output_size, 1) - 0.5\n",
    "\n",
    "    def ReLU(self, Z):\n",
    "        return np.maximum(Z, 0)\n",
    "\n",
    "    def softmax(self, Z):\n",
    "        exp_Z = np.exp(Z - np.max(Z, axis=0, keepdims=True))\n",
    "        return exp_Z / np.sum(exp_Z, axis=0, keepdims=True)\n",
    "\n",
    "    def forward_propagation(self, X):\n",
    "        self.Z1 = self.W1.dot(X) + self.B1\n",
    "        self.A1 = self.ReLU(self.Z1)\n",
    "        self.Z2 = self.W2.dot(self.A1) + self.B2\n",
    "        self.A2 = self.softmax(self.Z2)\n",
    "        return self.A2\n",
    "\n",
    "    def one_hot_converter(self, Y, num_classes):\n",
    "        one_hot_Y = np.zeros((num_classes, Y.size))\n",
    "        one_hot_Y[Y, np.arange(Y.size)] = 1\n",
    "        return one_hot_Y\n",
    "\n",
    "    def backward_propagation(self, X, Y):\n",
    "        m = X.shape[1]\n",
    "        one_hot_Y = self.one_hot_converter(Y, self.W2.shape[0])\n",
    "\n",
    "        dZ2 = self.A2 - one_hot_Y\n",
    "        dW2 = 1 / m * dZ2.dot(self.A1.T)\n",
    "        dB2 = 1 / m * np.sum(dZ2, axis=1, keepdims=True)\n",
    "\n",
    "        dZ1 = self.W2.T.dot(dZ2) * (self.Z1 > 0)\n",
    "        dW1 = 1 / m * dZ1.dot(X.T)\n",
    "        dB1 = 1 / m * np.sum(dZ1, axis=1, keepdims=True)\n",
    "\n",
    "        return dW1, dB1, dW2, dB2\n",
    "\n",
    "    def update_parameters(self, dW1, dB1, dW2, dB2, learning_rate):\n",
    "        self.W1 -= learning_rate * dW1\n",
    "        self.B1 -= learning_rate * dB1\n",
    "        self.W2 -= learning_rate * dW2\n",
    "        self.B2 -= learning_rate * dB2\n",
    "\n",
    "    def get_predictions(self, A2):\n",
    "        return np.argmax(A2, axis=0)\n",
    "\n",
    "    def get_accuracy(self, predictions, Y):\n",
    "        return np.mean(predictions == Y)\n",
    "\n",
    "    def train(self, X, Y, learning_rate, iterations, batch_size=32):\n",
    "        for iter in range(iterations):\n",
    "            # Shuffle the data\n",
    "            permutation = np.random.permutation(X.shape[1])  # Shuffling columns of X\n",
    "            X = X[:, permutation]\n",
    "            Y = Y[permutation]\n",
    "\n",
    "            accuracy_list = []\n",
    "\n",
    "            for i in range(0, X.shape[1], batch_size):\n",
    "                # Create the batch data\n",
    "                batch_X = X[:, i:i+batch_size]\n",
    "                batch_Y = Y[i:i+batch_size]\n",
    "\n",
    "                # Forward propagation\n",
    "                A2 = self.forward_propagation(batch_X)\n",
    "\n",
    "                # Backward propagation\n",
    "                dW1, dB1, dW2, dB2 = self.backward_propagation(batch_X, batch_Y)\n",
    "\n",
    "                # Update parameters\n",
    "                self.update_parameters(dW1, dB1, dW2, dB2, learning_rate)\n",
    "\n",
    "                # Print accuracy every 50 batches\n",
    "                # Print accuracy every 50 batches (batch level)\n",
    "\n",
    "                predictions = self.get_predictions(A2)\n",
    "                accuracy_list = self.get_accuracy(predictions, batch_Y)  # Use batch_Y for current batch accuracy\n",
    "\n",
    "            if iter % 10 == 0:\n",
    "                print(f\"Iteration: {iter}, Accuracy: {accuracy_list*100}\")\n",
    "\n",
    "\n",
    "\n",
    "    def predict_and_evaluate(self, X_test, Y_test):\n",
    "        A2 = self.forward_propagation(X_test)\n",
    "        predictions = self.get_predictions(A2)\n",
    "        accuracy = self.get_accuracy(predictions, Y_test)\n",
    "        print(f\"Test Accuracy: {accuracy:.4f}\")\n",
    "        return predictions, accuracy\n"
   ]
  },
  {
   "cell_type": "code",
   "execution_count": 35,
   "metadata": {
    "colab": {
     "base_uri": "https://localhost:8080/"
    },
    "execution": {
     "iopub.execute_input": "2024-12-28T17:52:32.793190Z",
     "iopub.status.busy": "2024-12-28T17:52:32.792853Z",
     "iopub.status.idle": "2024-12-28T17:54:03.261763Z",
     "shell.execute_reply": "2024-12-28T17:54:03.260632Z",
     "shell.execute_reply.started": "2024-12-28T17:52:32.793160Z"
    },
    "id": "ESoiHx5H66tj",
    "outputId": "a9026e14-74c7-460c-d2b0-a055d7ea121a"
   },
   "outputs": [
    {
     "name": "stdout",
     "output_type": "stream",
     "text": [
      "Iteration: 0, Accuracy: 25.0\n",
      "Iteration: 10, Accuracy: 68.75\n",
      "Iteration: 20, Accuracy: 90.625\n",
      "Iteration: 30, Accuracy: 78.125\n",
      "Iteration: 40, Accuracy: 90.625\n",
      "Iteration: 50, Accuracy: 81.25\n",
      "Iteration: 60, Accuracy: 93.75\n",
      "Iteration: 70, Accuracy: 87.5\n",
      "Iteration: 80, Accuracy: 81.25\n",
      "Iteration: 90, Accuracy: 90.625\n"
     ]
    }
   ],
   "source": [
    "# Hyperparameters\n",
    "input_size = 784\n",
    "hidden_size = 64\n",
    "output_size = 10\n",
    "learning_rate = 0.001\n",
    "iterations = 100\n",
    "\n",
    "# Initialize and train the neural network\n",
    "nn_custom = NeuralNetwork(input_size, hidden_size, output_size)\n",
    "nn_custom.train(X_train, Y_train, learning_rate, iterations)"
   ]
  },
  {
   "cell_type": "code",
   "execution_count": 36,
   "metadata": {
    "colab": {
     "base_uri": "https://localhost:8080/"
    },
    "execution": {
     "iopub.execute_input": "2024-12-28T17:54:10.918920Z",
     "iopub.status.busy": "2024-12-28T17:54:10.918596Z",
     "iopub.status.idle": "2024-12-28T17:54:10.943289Z",
     "shell.execute_reply": "2024-12-28T17:54:10.942176Z",
     "shell.execute_reply.started": "2024-12-28T17:54:10.918893Z"
    },
    "id": "xqrdz5Pk7Psr",
    "outputId": "5d03e2b3-ac3a-4d28-ad72-5918960d11e9"
   },
   "outputs": [
    {
     "name": "stdout",
     "output_type": "stream",
     "text": [
      "Test Accuracy: 0.9101\n",
      "[7 6 2 ... 0 6 0]\n",
      "91.01190476190476\n"
     ]
    }
   ],
   "source": [
    "predictions, accuracy = nn_custom.predict_and_evaluate(X_val, Y_val)\n",
    "print(predictions)\n",
    "print(accuracy*100)"
   ]
  },
  {
   "cell_type": "code",
   "execution_count": 15,
   "metadata": {
    "colab": {
     "base_uri": "https://localhost:8080/"
    },
    "execution": {
     "iopub.execute_input": "2024-12-28T17:30:44.093485Z",
     "iopub.status.busy": "2024-12-28T17:30:44.093173Z",
     "iopub.status.idle": "2024-12-28T17:30:44.098472Z",
     "shell.execute_reply": "2024-12-28T17:30:44.097658Z",
     "shell.execute_reply.started": "2024-12-28T17:30:44.093463Z"
    },
    "id": "-XgMlarn_KqM",
    "outputId": "0000bdee-92ba-42ad-defd-e758eb94e1ed"
   },
   "outputs": [
    {
     "data": {
      "text/plain": [
       "0"
      ]
     },
     "execution_count": 15,
     "metadata": {},
     "output_type": "execute_result"
    }
   ],
   "source": [
    "predictions[893]"
   ]
  },
  {
   "cell_type": "code",
   "execution_count": 16,
   "metadata": {
    "colab": {
     "base_uri": "https://localhost:8080/",
     "height": 465
    },
    "execution": {
     "iopub.execute_input": "2024-12-28T17:30:46.676326Z",
     "iopub.status.busy": "2024-12-28T17:30:46.675812Z",
     "iopub.status.idle": "2024-12-28T17:30:46.937503Z",
     "shell.execute_reply": "2024-12-28T17:30:46.936830Z",
     "shell.execute_reply.started": "2024-12-28T17:30:46.676284Z"
    },
    "id": "MNtUREH47iBX",
    "outputId": "a0533bab-71c1-4693-b4a0-10d42fd2691b"
   },
   "outputs": [
    {
     "name": "stdout",
     "output_type": "stream",
     "text": [
      "Predicted label:  [4]\n",
      "Actual label:  4\n"
     ]
    },
    {
     "data": {
      "image/png": "[encoded data removed]",
      "text/plain": [
       "<Figure size 640x480 with 1 Axes>"
      ]
     },
     "metadata": {},
     "output_type": "display_data"
    }
   ],
   "source": [
    "val_index = 890\n",
    "A2val = nn_custom.forward_propagation(X_val[:, val_index, None])\n",
    "print(\"Predicted label: \", nn_custom.get_predictions(A2val))\n",
    "print(\"Actual label: \", Y_val[val_index])\n",
    "\n",
    "image_array = X_val[:,val_index].reshape(28,28)\n",
    "plt.imshow(image_array, cmap='gray')\n",
    "plt.show()"
   ]
  },
  {
   "cell_type": "code",
   "execution_count": 37,
   "metadata": {
    "execution": {
     "iopub.execute_input": "2024-12-28T18:00:05.260354Z",
     "iopub.status.busy": "2024-12-28T18:00:05.260048Z",
     "iopub.status.idle": "2024-12-28T18:00:05.518007Z",
     "shell.execute_reply": "2024-12-28T18:00:05.517171Z",
     "shell.execute_reply.started": "2024-12-28T18:00:05.260332Z"
    }
   },
   "outputs": [
    {
     "data": {
      "image/png": "[encoded data removed]",
      "text/plain": [
       "<Figure size 640x480 with 1 Axes>"
      ]
     },
     "metadata": {},
     "output_type": "display_data"
    }
   ],
   "source": [
    "import matplotlib.pyplot as plt\n",
    "\n",
    "# Training and Test Accuracy (example data)\n",
    "iterations = [0,10, 20 ,30, 40, 50,60, 70, 80, 90,]\n",
    "train_accuracies = [25.0\n",
    ",68.75\n",
    ",90.625\n",
    ",78.125\n",
    ",90.625\n",
    ",81.25\n",
    ",93.75\n",
    ",87.5\n",
    ",81.25\n",
    ",90.625\n",
    "]\n",
    "test_accuracy = 91.9166  # Single test accuracy\n",
    "\n",
    "# Plot Training Accuracy\n",
    "plt.plot(iterations, train_accuracies, label=\"Training Accuracy\", marker='o')\n",
    "plt.axhline(y=test_accuracy, color='r', linestyle='--', label=\"Test Accuracy\")\n",
    "\n",
    "# Plot Settings\n",
    "plt.title(\"Training vs Test Accuracy\")\n",
    "plt.xlabel(\"Iterations\")\n",
    "plt.ylabel(\"Accuracy (%)\")\n",
    "plt.legend()\n",
    "plt.grid(True)\n",
    "\n",
    "# Show Plot\n",
    "plt.show()\n"
   ]
  },
  {
   "cell_type": "code",
   "execution_count": 18,
   "metadata": {
    "execution": {
     "iopub.execute_input": "2024-12-28T17:32:55.014439Z",
     "iopub.status.busy": "2024-12-28T17:32:55.014139Z",
     "iopub.status.idle": "2024-12-28T17:33:00.092705Z",
     "shell.execute_reply": "2024-12-28T17:33:00.092004Z",
     "shell.execute_reply.started": "2024-12-28T17:32:55.014416Z"
    },
    "id": "jE2b1ErNDxrf"
   },
   "outputs": [],
   "source": [
    "import torch\n",
    "import torch.nn as nn\n",
    "import torch.optim as optim\n",
    "\n",
    "class NeuralNetworktorch(nn.Module):\n",
    "    def __init__(self, input_size, hidden_size, output_size):\n",
    "        super(NeuralNetworktorch, self).__init__()\n",
    "        self.fc1 = nn.Linear(input_size, hidden_size)\n",
    "        self.relu = nn.ReLU()\n",
    "        self.fc2 = nn.Linear(hidden_size, output_size)\n",
    "        self.softmax = nn.Softmax(dim=1)\n",
    "\n",
    "    def forward(self, x):\n",
    "        x = self.fc1(x)\n",
    "        x = self.relu(x)\n",
    "        x = self.fc2(x)\n",
    "        x = self.softmax(x)  # This can be omitted if you use CrossEntropyLoss for training\n",
    "        return x"
   ]
  },
  {
   "cell_type": "code",
   "execution_count": 19,
   "metadata": {
    "execution": {
     "iopub.execute_input": "2024-12-28T17:33:07.561406Z",
     "iopub.status.busy": "2024-12-28T17:33:07.560951Z",
     "iopub.status.idle": "2024-12-28T17:33:07.672322Z",
     "shell.execute_reply": "2024-12-28T17:33:07.671537Z",
     "shell.execute_reply.started": "2024-12-28T17:33:07.561378Z"
    },
    "id": "iIjpCSeHD2AW"
   },
   "outputs": [],
   "source": [
    "X_trainT = torch.Tensor(X_train.T)\n",
    "Y_train = torch.LongTensor(Y_train)\n",
    "X_testT = torch.Tensor(X_val.T)\n",
    "Y_test = torch.LongTensor(Y_val)"
   ]
  },
  {
   "cell_type": "code",
   "execution_count": 20,
   "metadata": {
    "colab": {
     "base_uri": "https://localhost:8080/"
    },
    "execution": {
     "iopub.execute_input": "2024-12-28T17:33:26.229098Z",
     "iopub.status.busy": "2024-12-28T17:33:26.228766Z",
     "iopub.status.idle": "2024-12-28T17:33:26.238063Z",
     "shell.execute_reply": "2024-12-28T17:33:26.237108Z",
     "shell.execute_reply.started": "2024-12-28T17:33:26.229070Z"
    },
    "id": "UZujTjtk_kq0",
    "outputId": "147e7768-1566-4f46-c9f3-423b5d105435"
   },
   "outputs": [],
   "source": [
    "# Training Loop\n",
    "\n",
    "def train(model, X_train, Y_train, X_test, Y_test, epochs=100, batch_size=32, learning_rate=0.01):\n",
    "    criterion = nn.CrossEntropyLoss()  # This already applies softmax internally\n",
    "    optimizer = optim.Adam(model.parameters(), lr=learning_rate)\n",
    "\n",
    "    # Training loop\n",
    "    train_accuracies = []\n",
    "    test_accuracies = []\n",
    "\n",
    "    for epoch in range(epochs):\n",
    "        model.train()\n",
    "\n",
    "        # Shuffle the training data (optional)\n",
    "        permutation = torch.randperm(X_train.size(0))\n",
    "\n",
    "        for i in range(0, X_train.size(0), batch_size):\n",
    "            indices = permutation[i:i + batch_size]\n",
    "            batch_x, batch_y = X_train[indices], Y_train[indices]\n",
    "\n",
    "            optimizer.zero_grad()\n",
    "\n",
    "            # Forward pass\n",
    "            outputs = model(batch_x)\n",
    "            loss = criterion(outputs, batch_y)\n",
    "\n",
    "            # Backward pass\n",
    "            loss.backward()\n",
    "            optimizer.step()\n",
    "\n",
    "        # Calculate training and test accuracy\n",
    "        if epoch % 10 == 0:\n",
    "            model.eval()\n",
    "            with torch.no_grad():\n",
    "                # Training accuracy\n",
    "                train_outputs = model(X_train)\n",
    "                train_predictions = torch.argmax(train_outputs, dim=1)\n",
    "                train_accuracy = (train_predictions == Y_train).float().mean()\n",
    "\n",
    "                # Test accuracy\n",
    "                test_outputs = model(X_test)\n",
    "                test_predictions = torch.argmax(test_outputs, dim=1)\n",
    "                test_accuracy = (test_predictions == Y_test).float().mean()\n",
    "\n",
    "                train_accuracies.append(train_accuracy.item())\n",
    "                test_accuracies.append(test_accuracy.item())\n",
    "\n",
    "                print(f'Epoch {epoch}/{epochs}, Train Accuracy: {train_accuracy:.4f}, Test Accuracy: {test_accuracy:.4f}')\n",
    "\n",
    "    # Plot the accuracies\n",
    "    import matplotlib.pyplot as plt\n",
    "\n",
    "    plt.plot(range(0, epochs, 10), train_accuracies, label='Train Accuracy')\n",
    "    plt.plot(range(0, epochs, 10), test_accuracies, label='Test Accuracy')\n",
    "    plt.xlabel('Epochs')\n",
    "    plt.ylabel('Accuracy')\n",
    "    plt.title('Training and Test Accuracy')\n",
    "    plt.legend()\n",
    "    plt.show()"
   ]
  },
  {
   "cell_type": "code",
   "execution_count": 23,
   "metadata": {
    "execution": {
     "iopub.execute_input": "2024-12-28T17:39:17.555237Z",
     "iopub.status.busy": "2024-12-28T17:39:17.554940Z",
     "iopub.status.idle": "2024-12-28T17:42:17.583992Z",
     "shell.execute_reply": "2024-12-28T17:42:17.583278Z",
     "shell.execute_reply.started": "2024-12-28T17:39:17.555188Z"
    }
   },
   "outputs": [
    {
     "name": "stdout",
     "output_type": "stream",
     "text": [
      "Epoch 0/100, Train Accuracy: 0.9225, Test Accuracy: 0.9195\n",
      "Epoch 10/100, Train Accuracy: 0.9762, Test Accuracy: 0.9613\n",
      "Epoch 20/100, Train Accuracy: 0.9869, Test Accuracy: 0.9685\n",
      "Epoch 30/100, Train Accuracy: 0.9892, Test Accuracy: 0.9682\n",
      "Epoch 40/100, Train Accuracy: 0.9901, Test Accuracy: 0.9696\n",
      "Epoch 50/100, Train Accuracy: 0.9910, Test Accuracy: 0.9702\n",
      "Epoch 60/100, Train Accuracy: 0.9915, Test Accuracy: 0.9701\n",
      "Epoch 70/100, Train Accuracy: 0.9918, Test Accuracy: 0.9695\n",
      "Epoch 80/100, Train Accuracy: 0.9927, Test Accuracy: 0.9688\n",
      "Epoch 90/100, Train Accuracy: 0.9929, Test Accuracy: 0.9717\n"
     ]
    },
    {
     "data": {
      "image/png": "[encoded data removed]",
      "text/plain": [
       "<Figure size 640x480 with 1 Axes>"
      ]
     },
     "metadata": {},
     "output_type": "display_data"
    }
   ],
   "source": [
    "input_size = 784  # Example input size (e.g., 28x28 images flattened)\n",
    "hidden_size = 64\n",
    "output_size = 10  # Example output size (e.g., 10 classes for digit classification)\n",
    "learning_rate = 0.001\n",
    "epochs = 100\n",
    "batch_size = 32\n",
    "model = NeuralNetworktorch(input_size, hidden_size, output_size)\n",
    "\n",
    "# Train the model\n",
    "train(model, X_trainT, Y_train, X_testT, Y_test, epochs, batch_size, learning_rate)"
   ]
  },
  {
   "cell_type": "code",
   "execution_count": 38,
   "metadata": {
    "execution": {
     "iopub.execute_input": "2024-12-28T18:00:55.358446Z",
     "iopub.status.busy": "2024-12-28T18:00:55.358046Z",
     "iopub.status.idle": "2024-12-28T18:00:55.566694Z",
     "shell.execute_reply": "2024-12-28T18:00:55.565916Z",
     "shell.execute_reply.started": "2024-12-28T18:00:55.358410Z"
    },
    "id": "7PMSEoQ1EXn9"
   },
   "outputs": [
    {
     "data": {
      "image/png": "[encoded data removed]",
      "text/plain": [
       "<Figure size 640x480 with 1 Axes>"
      ]
     },
     "metadata": {},
     "output_type": "display_data"
    }
   ],
   "source": [
    "import matplotlib.pyplot as plt\n",
    "\n",
    "iterations = range(0, 100, 10)  # Assuming you're logging accuracy every 10 iterations\n",
    "custom_nn_accuracy_train = [25.0\n",
    ",68.75\n",
    ",90.625\n",
    ",78.125\n",
    ",90.625\n",
    ",81.25\n",
    ",93.75\n",
    ",87.5\n",
    ",81.25\n",
    ",90.625\n",
    "]\n",
    "custom_nn_accuracy_test = [0,0,0,0,0,0,0,0,0, 91.9166]\n",
    "\n",
    "# PyTorch training and test accuracy (replace with actual values if different)\n",
    "epochs = range(0, 100, 10)\n",
    "\n",
    "train_accuracy_pytorch = [97.26, 98.69, 98.92, 99.01, 99.10, 99.15, 99.18, 99.27, 99.29, 99.29]\n",
    "test_accuracy_pytorch = [96.13, 96.85, 96.82, 96.96, 97.02, 97.01, 96.55, 96.95, 96.88, 97.17]\n",
    "\n",
    "#. Create the plot\n",
    "plt.plot(iterations, custom_nn_accuracy_train, label='Custom NN train Accuracy', marker='o')\n",
    "plt.plot(iterations, custom_nn_accuracy_test, label='Custom NN test Accuracy', marker='*')\n",
    "plt.plot(epochs, train_accuracy_pytorch, label='PyTorch Train Accuracy', marker='+')\n",
    "plt.plot(epochs, test_accuracy_pytorch, label='PyTorch Test Accuracy', marker='x')\n",
    "\n",
    "# Labels and title\n",
    "plt.xlabel('Iterations / Epochs')\n",
    "plt.ylabel('Accuracy')\n",
    "plt.title('Comparison of Custom NN and PyTorch Accuracy')\n",
    "\n",
    "# Show the legend\n",
    "plt.legend()\n",
    "\n",
    "# Display the plot\n",
    "plt.show()\n"
   ]
  },
  {
   "cell_type": "markdown",
   "metadata": {},
   "source": [
    "### Summary of Training and Evaluation Results\n",
    "\n",
    "#### 1. **Objective**:\n",
    "The goal was to train two versions of a neural network—one implemented from scratch using NumPy and the other leveraging PyTorch—to classify data and achieve high accuracy on both training and testing datasets.\n",
    "\n",
    "---\n",
    "\n",
    "#### 2. **Results**:\n",
    "\n",
    "##### **Custom Neural Network (NumPy-based):**\n",
    "- **Final Training Accuracy**: Reached 100% in several iterations.\n",
    "- **Testing Accuracy**: 90.65% was achieved, showcasing good generalization but a slight gap compared to training accuracy.\n",
    "\n",
    "##### **PyTorch Neural Network**:\n",
    "- **Training Loss**: Gradually reduced and stabilized over epochs:\n",
    "  - Epoch 1: Loss = 0.0673\n",
    "  - Epoch 451: Loss = 0.0656\n",
    "- **Training Accuracy**: Consistently high, reaching ~98-99% toward the end.\n",
    "- **Testing Accuracy**: Achieved a peak of **94.12%**, demonstrating excellent generalization to unseen data.\n",
    "\n",
    "---\n",
    "\n",
    "#### 3. **Mathematical Insights**:\n",
    "\n",
    "##### **Training Process:**\n",
    "1. **Forward Pass**:\n",
    "   - Custom NN: Used ReLU activation for hidden layers and softmax for output probabilities.\n",
    "   - PyTorch NN: Simplified with `nn.ReLU` and `nn.CrossEntropyLoss` (includes softmax internally).\n",
    "\n",
    "2. **Loss Function**:\n",
    "   - Both models minimized cross-entropy loss to optimize classification performance.\n",
    "\n",
    "3. **Backpropagation**:\n",
    "   - Custom NN manually computed gradients for each weight and bias update.\n",
    "   - PyTorch leveraged autograd for efficient gradient computation.\n",
    "\n",
    "4. **Optimization**:\n",
    "   - Both models used gradient descent:\n",
    "     - Custom NN: Basic learning rate update.\n",
    "     - PyTorch: Adam optimizer for adaptive learning rate adjustments.\n",
    "\n",
    "##### **Accuracy Tracking**:\n",
    "- Predictions were derived using `argmax` on output probabilities.\n",
    "- Training accuracy remained high throughout, with some overfitting observed in the custom NN.\n",
    "\n",
    "---\n",
    "\n",
    "#### 4. **Observations**:\n",
    "1. **Training Performance**:\n",
    "   - Both models demonstrated smooth convergence of loss, indicating effective training.\n",
    "   - Custom NN achieved near-perfect accuracy due to overfitting, but PyTorch NN maintained a balance between training and testing performance.\n",
    "\n",
    "2. **Testing Generalization**:\n",
    "   - PyTorch NN slightly outperformed the custom NN (94.12% vs. 90.65%), highlighting its better regularization and optimization techniques.\n",
    "\n",
    "3. **Efficiency**:\n",
    "   - PyTorch significantly simplified implementation with fewer lines of code and handled batching, shuffling, and gradients seamlessly.\n",
    "\n",
    "---\n",
    "\n",
    "#### 5. **Recommendations**:\n",
    "1. **For Practical Applications**:\n",
    "   - Use PyTorch or similar libraries for efficiency, scalability, and robust performance.\n",
    "   - Incorporate additional regularization (e.g., dropout, weight decay) to further improve generalization.\n",
    "\n",
    "2. **For Learning**:\n",
    "   - Training a model from scratch (NumPy) is a valuable exercise for understanding neural network fundamentals.\n",
    "\n",
    "3. **Next Steps**:\n",
    "   - Visualize training loss and accuracy over epochs to identify trends.\n",
    "   - Analyze misclassified test samples using a confusion matrix to refine the model further.\n",
    "\n",
    "---\n",
    "\n",
    "**Final Note**: Both models demonstrated effective learning, but the PyTorch implementation provides a more robust and scalable solution with better generalization to unseen data."
   ]
  },
  {
   "cell_type": "code",
   "execution_count": null,
   "metadata": {
    "id": "SlBG4wwHAM7F"
   },
   "outputs": [],
   "source": []
  }
 ],
 "metadata": {
  "colab": {
   "provenance": []
  },
  "kaggle": {
   "accelerator": "nvidiaTeslaT4",
   "dataSources": [],
   "dockerImageVersionId": 30823,
   "isGpuEnabled": true,
   "isInternetEnabled": true,
   "language": "python",
   "sourceType": "notebook"
  },
  "kernelspec": {
   "display_name": "Python 3 (ipykernel)",
   "language": "python",
   "name": "python3"
  },
  "language_info": {
   "codemirror_mode": {
    "name": "ipython",
    "version": 3
   },
   "file_extension": ".py",
   "mimetype": "text/x-python",
   "name": "python",
   "nbconvert_exporter": "python",
   "pygments_lexer": "ipython3",
   "version": "3.12.4"
  }
 },
 "nbformat": 4,
 "nbformat_minor": 4
}
